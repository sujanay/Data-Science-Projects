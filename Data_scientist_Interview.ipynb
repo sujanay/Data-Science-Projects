{
  "nbformat": 4,
  "nbformat_minor": 0,
  "metadata": {
    "colab": {
      "name": "Data scientist - Interview.ipynb",
      "version": "0.3.2",
      "provenance": [],
      "include_colab_link": true
    },
    "kernelspec": {
      "name": "python3",
      "display_name": "Python 3"
    }
  },
  "cells": [
    {
      "cell_type": "markdown",
      "metadata": {
        "id": "view-in-github",
        "colab_type": "text"
      },
      "source": [
        "<a href=\"https://colab.research.google.com/github/sujanay/Data-Science-Projects/blob/master/Data_scientist_Interview.ipynb\" target=\"_parent\"><img src=\"https://colab.research.google.com/assets/colab-badge.svg\" alt=\"Open In Colab\"/></a>"
      ]
    },
    {
      "cell_type": "markdown",
      "metadata": {
        "id": "5a-1RLGoK8Du",
        "colab_type": "text"
      },
      "source": [
        "# 1. iexfinance "
      ]
    },
    {
      "cell_type": "code",
      "metadata": {
        "id": "lmIK6H9UKWJC",
        "colab_type": "code",
        "colab": {}
      },
      "source": [
        "import pandas as pd\n",
        "import numpy as np\n",
        "import warnings\n",
        "\n",
        "warnings.filterwarnings('ignore')\n",
        "\n",
        "\n",
        "def create_sample_data():\n",
        "    np.random.seed(1696)  # The united flight number on which I made this function\n",
        "    # make some random data\n",
        "    dp = []\n",
        "    no3 = []\n",
        "    nh4 = []\n",
        "    ph = []\n",
        "    om = []\n",
        "    cec = []\n",
        "    for y in range(0, 10):\n",
        "        for x in [3, 6, 12, 24, 64]:\n",
        "            dp.append(x)\n",
        "        no3.append(np.linspace(4, 0, 5) + np.random.rand(5))\n",
        "        nh4.append(np.linspace(4, 0, 5) + np.random.rand(5))\n",
        "        ph.append(np.linspace(6, 4, 5) + np.random.rand(5))\n",
        "        om.append(np.linspace(1, 4, 5) + np.random.rand(5))\n",
        "        cec.append(np.linspace(14, 25, 5) + np.random.rand(5))\n",
        "    input_df = pd.DataFrame({\"lat\": np.repeat([42.8 + np.random.rand(10)], 5),\n",
        "                             \"lon\": np.repeat([-89.9 + np.random.rand(10)], 5),\n",
        "                             \"field_id\": np.repeat([\"A\", \"B\", \"C\", \"D\", \"E\", \"F\", \"G\", \"H\", \"I\", \"J\"], 5),\n",
        "                             \"depth_in\": dp,\n",
        "                             \"no3_g_m2\": np.ravel(np.unwrap(cec)),\n",
        "                             \"nh4_g_m2\": np.ravel(np.unwrap(nh4)),\n",
        "                             \"ph\": np.ravel(np.unwrap(ph)),\n",
        "                             \"om_100\": np.ravel(np.unwrap(om)),\n",
        "                             \"cec_cmol_kg\": np.ravel(np.unwrap(cec))})\n",
        "    updated_input_df = input_df.copy()\n",
        "    # Now randomly, set some values to NaNs\n",
        "    for x in range(20):\n",
        "        nan_index1 = np.random.randint(10, 50)\n",
        "        updated_input_df['no3_g_m2'].loc[nan_index1] = np.nan\n",
        "        nan_index2 = np.random.randint(10, 50)\n",
        "        updated_input_df['nh4_g_m2'].loc[nan_index2] = np.nan\n",
        "        nan_index3 = np.random.randint(10, 50)\n",
        "        updated_input_df['ph'].loc[nan_index3] = np.nan\n",
        "        nan_index4 = np.random.randint(10, 50)\n",
        "        updated_input_df['om_100'].loc[nan_index4] = np.nan\n",
        "        nan_index5 = np.random.randint(10, 50)\n",
        "        updated_input_df['cec_cmol_kg'].loc[nan_index5] = np.nan\n",
        "    locations_df = updated_input_df[['field_id', 'lat', 'lon']].drop_duplicates()\n",
        "    soil_samples_df = updated_input_df[['lat', 'lon', 'depth_in', 'no3_g_m2', 'nh4_g_m2',\n",
        "                                        'ph', 'om_100', 'cec_cmol_kg']].drop_duplicates()\n",
        "    # print(\" ********   \")\n",
        "    # print(\" ********   \")\n",
        "    # print(f\"First dataset: locations_df: shape =  {locations_df.shape}\")\n",
        "    # print(locations_df.head())\n",
        "\n",
        "    # print(\" ********   \")\n",
        "    # print(\" ********   \")\n",
        "    # print(f\"Second dataset: soil_samples_df: shape =  {soil_samples_df.shape}\")\n",
        "    # print(soil_samples_df.head())\n",
        "    return locations_df, soil_samples_df"
      ],
      "execution_count": 0,
      "outputs": []
    },
    {
      "cell_type": "code",
      "metadata": {
        "id": "N03epSR0K0ev",
        "colab_type": "code",
        "colab": {
          "base_uri": "https://localhost:8080/",
          "height": 34
        },
        "outputId": "23a00b50-26f2-473a-9cfb-4095922c9a04"
      },
      "source": [
        "print(\"Preparing the two datasets locations_df, and soil_samples_df\")\n",
        "locations_df, soil_samples_df = create_sample_data()"
      ],
      "execution_count": 5,
      "outputs": [
        {
          "output_type": "stream",
          "text": [
            "Preparing the two datasets locations_df, and soil_samples_df\n"
          ],
          "name": "stdout"
        }
      ]
    },
    {
      "cell_type": "code",
      "metadata": {
        "id": "0j9pdd_sLVZj",
        "colab_type": "code",
        "outputId": "b3e0b9dd-c958-494c-c9b0-046a39b1e85a",
        "colab": {
          "base_uri": "https://localhost:8080/",
          "height": 204
        }
      },
      "source": [
        "locations_df.head()"
      ],
      "execution_count": 6,
      "outputs": [
        {
          "output_type": "execute_result",
          "data": {
            "text/html": [
              "<div>\n",
              "<style scoped>\n",
              "    .dataframe tbody tr th:only-of-type {\n",
              "        vertical-align: middle;\n",
              "    }\n",
              "\n",
              "    .dataframe tbody tr th {\n",
              "        vertical-align: top;\n",
              "    }\n",
              "\n",
              "    .dataframe thead th {\n",
              "        text-align: right;\n",
              "    }\n",
              "</style>\n",
              "<table border=\"1\" class=\"dataframe\">\n",
              "  <thead>\n",
              "    <tr style=\"text-align: right;\">\n",
              "      <th></th>\n",
              "      <th>field_id</th>\n",
              "      <th>lat</th>\n",
              "      <th>lon</th>\n",
              "    </tr>\n",
              "  </thead>\n",
              "  <tbody>\n",
              "    <tr>\n",
              "      <th>0</th>\n",
              "      <td>A</td>\n",
              "      <td>43.583982</td>\n",
              "      <td>-89.887271</td>\n",
              "    </tr>\n",
              "    <tr>\n",
              "      <th>5</th>\n",
              "      <td>B</td>\n",
              "      <td>43.550064</td>\n",
              "      <td>-89.536903</td>\n",
              "    </tr>\n",
              "    <tr>\n",
              "      <th>10</th>\n",
              "      <td>C</td>\n",
              "      <td>43.544270</td>\n",
              "      <td>-89.320629</td>\n",
              "    </tr>\n",
              "    <tr>\n",
              "      <th>15</th>\n",
              "      <td>D</td>\n",
              "      <td>43.628656</td>\n",
              "      <td>-89.148494</td>\n",
              "    </tr>\n",
              "    <tr>\n",
              "      <th>20</th>\n",
              "      <td>E</td>\n",
              "      <td>43.666576</td>\n",
              "      <td>-89.707082</td>\n",
              "    </tr>\n",
              "  </tbody>\n",
              "</table>\n",
              "</div>"
            ],
            "text/plain": [
              "   field_id        lat        lon\n",
              "0         A  43.583982 -89.887271\n",
              "5         B  43.550064 -89.536903\n",
              "10        C  43.544270 -89.320629\n",
              "15        D  43.628656 -89.148494\n",
              "20        E  43.666576 -89.707082"
            ]
          },
          "metadata": {
            "tags": []
          },
          "execution_count": 6
        }
      ]
    },
    {
      "cell_type": "code",
      "metadata": {
        "id": "5RBddN26LkJX",
        "colab_type": "code",
        "colab": {
          "base_uri": "https://localhost:8080/",
          "height": 204
        },
        "outputId": "c3a65683-ae67-4d71-bf08-0e4f28d77ba8"
      },
      "source": [
        "soil_samples_df.head()"
      ],
      "execution_count": 7,
      "outputs": [
        {
          "output_type": "execute_result",
          "data": {
            "text/html": [
              "<div>\n",
              "<style scoped>\n",
              "    .dataframe tbody tr th:only-of-type {\n",
              "        vertical-align: middle;\n",
              "    }\n",
              "\n",
              "    .dataframe tbody tr th {\n",
              "        vertical-align: top;\n",
              "    }\n",
              "\n",
              "    .dataframe thead th {\n",
              "        text-align: right;\n",
              "    }\n",
              "</style>\n",
              "<table border=\"1\" class=\"dataframe\">\n",
              "  <thead>\n",
              "    <tr style=\"text-align: right;\">\n",
              "      <th></th>\n",
              "      <th>lat</th>\n",
              "      <th>lon</th>\n",
              "      <th>depth_in</th>\n",
              "      <th>no3_g_m2</th>\n",
              "      <th>nh4_g_m2</th>\n",
              "      <th>ph</th>\n",
              "      <th>om_100</th>\n",
              "      <th>cec_cmol_kg</th>\n",
              "    </tr>\n",
              "  </thead>\n",
              "  <tbody>\n",
              "    <tr>\n",
              "      <th>0</th>\n",
              "      <td>43.583982</td>\n",
              "      <td>-89.887271</td>\n",
              "      <td>3</td>\n",
              "      <td>14.442967</td>\n",
              "      <td>4.390333</td>\n",
              "      <td>6.316604</td>\n",
              "      <td>1.968296</td>\n",
              "      <td>14.442967</td>\n",
              "    </tr>\n",
              "    <tr>\n",
              "      <th>1</th>\n",
              "      <td>43.583982</td>\n",
              "      <td>-89.887271</td>\n",
              "      <td>6</td>\n",
              "      <td>17.172785</td>\n",
              "      <td>3.164907</td>\n",
              "      <td>5.745816</td>\n",
              "      <td>2.623914</td>\n",
              "      <td>17.172785</td>\n",
              "    </tr>\n",
              "    <tr>\n",
              "      <th>2</th>\n",
              "      <td>43.583982</td>\n",
              "      <td>-89.887271</td>\n",
              "      <td>12</td>\n",
              "      <td>20.074758</td>\n",
              "      <td>2.492931</td>\n",
              "      <td>5.466468</td>\n",
              "      <td>3.032368</td>\n",
              "      <td>20.074758</td>\n",
              "    </tr>\n",
              "    <tr>\n",
              "      <th>3</th>\n",
              "      <td>43.583982</td>\n",
              "      <td>-89.887271</td>\n",
              "      <td>24</td>\n",
              "      <td>23.058251</td>\n",
              "      <td>1.906345</td>\n",
              "      <td>4.636909</td>\n",
              "      <td>3.824171</td>\n",
              "      <td>23.058251</td>\n",
              "    </tr>\n",
              "    <tr>\n",
              "      <th>4</th>\n",
              "      <td>43.583982</td>\n",
              "      <td>-89.887271</td>\n",
              "      <td>64</td>\n",
              "      <td>25.172066</td>\n",
              "      <td>0.256614</td>\n",
              "      <td>4.722681</td>\n",
              "      <td>4.473293</td>\n",
              "      <td>25.172066</td>\n",
              "    </tr>\n",
              "  </tbody>\n",
              "</table>\n",
              "</div>"
            ],
            "text/plain": [
              "         lat        lon  depth_in  ...        ph    om_100  cec_cmol_kg\n",
              "0  43.583982 -89.887271         3  ...  6.316604  1.968296    14.442967\n",
              "1  43.583982 -89.887271         6  ...  5.745816  2.623914    17.172785\n",
              "2  43.583982 -89.887271        12  ...  5.466468  3.032368    20.074758\n",
              "3  43.583982 -89.887271        24  ...  4.636909  3.824171    23.058251\n",
              "4  43.583982 -89.887271        64  ...  4.722681  4.473293    25.172066\n",
              "\n",
              "[5 rows x 8 columns]"
            ]
          },
          "metadata": {
            "tags": []
          },
          "execution_count": 7
        }
      ]
    },
    {
      "cell_type": "code",
      "metadata": {
        "id": "MqevLy9CNbP4",
        "colab_type": "code",
        "colab": {
          "base_uri": "https://localhost:8080/",
          "height": 235
        },
        "outputId": "4a08aa2c-69b1-4d5a-bfa1-a1316cf26a72"
      },
      "source": [
        "soil_samples_df.groupby('depth_in')[['ph', 'om_100']].max()"
      ],
      "execution_count": 13,
      "outputs": [
        {
          "output_type": "execute_result",
          "data": {
            "text/html": [
              "<div>\n",
              "<style scoped>\n",
              "    .dataframe tbody tr th:only-of-type {\n",
              "        vertical-align: middle;\n",
              "    }\n",
              "\n",
              "    .dataframe tbody tr th {\n",
              "        vertical-align: top;\n",
              "    }\n",
              "\n",
              "    .dataframe thead th {\n",
              "        text-align: right;\n",
              "    }\n",
              "</style>\n",
              "<table border=\"1\" class=\"dataframe\">\n",
              "  <thead>\n",
              "    <tr style=\"text-align: right;\">\n",
              "      <th></th>\n",
              "      <th>ph</th>\n",
              "      <th>om_100</th>\n",
              "    </tr>\n",
              "    <tr>\n",
              "      <th>depth_in</th>\n",
              "      <th></th>\n",
              "      <th></th>\n",
              "    </tr>\n",
              "  </thead>\n",
              "  <tbody>\n",
              "    <tr>\n",
              "      <th>3</th>\n",
              "      <td>6.756729</td>\n",
              "      <td>1.968296</td>\n",
              "    </tr>\n",
              "    <tr>\n",
              "      <th>6</th>\n",
              "      <td>6.454724</td>\n",
              "      <td>2.691550</td>\n",
              "    </tr>\n",
              "    <tr>\n",
              "      <th>12</th>\n",
              "      <td>5.859755</td>\n",
              "      <td>3.165993</td>\n",
              "    </tr>\n",
              "    <tr>\n",
              "      <th>24</th>\n",
              "      <td>5.465211</td>\n",
              "      <td>4.245855</td>\n",
              "    </tr>\n",
              "    <tr>\n",
              "      <th>64</th>\n",
              "      <td>4.856508</td>\n",
              "      <td>4.750726</td>\n",
              "    </tr>\n",
              "  </tbody>\n",
              "</table>\n",
              "</div>"
            ],
            "text/plain": [
              "                ph    om_100\n",
              "depth_in                    \n",
              "3         6.756729  1.968296\n",
              "6         6.454724  2.691550\n",
              "12        5.859755  3.165993\n",
              "24        5.465211  4.245855\n",
              "64        4.856508  4.750726"
            ]
          },
          "metadata": {
            "tags": []
          },
          "execution_count": 13
        }
      ]
    },
    {
      "cell_type": "code",
      "metadata": {
        "id": "JJqsJDPsNjv8",
        "colab_type": "code",
        "colab": {}
      },
      "source": [
        "# \" ******** ****************************************  \"\n",
        "# Question 1\n",
        "# Run the code and explore the dataset.\n",
        "# Once complete Sufficiently describe the dataset by its main characteristics:\n",
        "\n",
        "# print(locations_df)\n",
        "# print()\n",
        "# print(soil_samples_df)\n",
        "\n",
        "# print(locations_df.describe())\n",
        "\n",
        "# print(soil_samples_df.describe())\n",
        "# print(soil_samples_df.columns)\n",
        "\n",
        "# print(soil_samples_df['depth_in'].nunique())\n",
        "# print(soil_samples_df['depth_in'].unique())\n",
        "\n",
        "# print(locations_df.head(5))\n",
        "# print(locations_df['field_id'].nunique())\n",
        "\n",
        "# \" ******** ****************************************  \"\n",
        "# Question 2\n",
        "# 1 Find the mean OM value for each depth across all samples\n",
        "# print(soil_samples_df.groupby('depth_in')[['om_100','ph']].mean())\n",
        "\n",
        "# 2 Find the median OM value for each depth across all samples\n",
        "# print(soil_samples_df.groupby('depth_in')['om_100'].median())\n",
        "\n",
        "# 3 Find the average OM values for each location across all depths\n",
        "# print(soil_samples_df.groupby(['lat', 'lon'])['om_100'].mean())\n",
        "\n",
        "# 4 What kind of visualizations would you chose for the EDA?\n",
        "# import seaborn as sns\n",
        "# print(sns.heatmap)\n",
        "# import matplotlib.pyplot as plt\n",
        "# plt.figure(figsi=)\n",
        "# plt.imshow(data)\n",
        "\n",
        "\n",
        "# \" ******** ****************************************  \"\n",
        "# Question 3\n",
        "# How would you find missing values?\n",
        "# print(soil_samples_df.isnull().values.any())\n",
        "\n",
        "# Add an additional column to the table that indicates if the row contains any missing values.\n",
        "# soil_samples_df['has_null'] =\n",
        "# print(soil_samples_df.iloc[0:49].isnull().values.any())\n",
        "\n",
        "# How would you replace missing values?\n",
        "# print(soil_samples_df.fillna(-999))\n",
        "\n",
        "# Try to find the missing values, do some interpolation close to what itâ€™s neighbors have, neighbor on the left and right and chose the mean\n",
        "# What limitations exists with this strategy?\n",
        "\n",
        "\n",
        "# \" ******** ****************************************  \"\n",
        "# Question 4\n",
        "# How would you join locations_df data with the soil_samples_df? (You may need to explore it first)"
      ],
      "execution_count": 0,
      "outputs": []
    }
  ]
}